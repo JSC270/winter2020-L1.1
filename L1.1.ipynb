{
 "cells": [
  {
   "cell_type": "markdown",
   "metadata": {},
   "source": [
    "*JSC270, Winter 2020 - Prof. Chevalier*\n",
    "\n",
    "# <center>  Laboratory 1.1 - \"Hello JSC270\"  </center>\n",
    "## <center> Lab assignment </center>\n",
    "\n",
    "### <center> Date: January 8, 12:00 - 14:00, BA3175 <br><br> Due Date: January 13, 12:00pm (noon) \n",
    "<center>  This assignment is a group assignment. </center>\n",
    "\n",
    "\n",
    "***"
   ]
  },
  {
   "cell_type": "markdown",
   "metadata": {},
   "source": [
    "We are interested in knowing more about Toronto Bike Share usage. Use the 2016 Q3, 2016 Q4, and 2017 Toronto Bikeshare ridership data available at [https://open.toronto.ca/dataset/bike-share-toronto-ridership-data/](https://open.toronto.ca/dataset/bike-share-toronto-ridership-data/) to answer the following questions.\n",
    "\n",
    "***\n",
    "\n",
    "<div style=\"background-color: #f7f7f7; padding:10px;\">\n",
    "    \n",
    "<h3> Objectives </h3>\n",
    "\n",
    "<ul>\n",
    "    <li> pandas manipulations </li>\n",
    "    <li> data cleaning and wrangling: identify discrepencies between sources; identify anomalies; identify edge cases; remove outliers</li>\n",
    "    <li> re-use and adapt existing code</li>\n",
    "    <li> basic data analysis and plotting </li>\n",
    "</ul>\n",
    "\n",
    "<h3> Instructions </h3>\n",
    "\n",
    "<ul>\n",
    "    <li> Make a copy of this notebook: <a href=\"https://classroom.github.com/g/yJALw89N\">https://classroom.github.com/g/yJALw89N</a> </li>\n",
    "    <li> Answer the questions in the cells that indicate where your answers should be placed.  </li>\n",
    "     <li> Make sure that you explain your solutions when asked and comment your code for readability. </li>\n",
    "    <li> Commit and push changes to the Github classroom repository that has been provided (more details below).</li>\n",
    "    <li> Submit a pdf report to Quercus (more details below).</li>\n",
    " </ul>\n",
    "    \n",
    "\n",
    "\n",
    "</div>\n",
    "\n",
    "***\n",
    "\n",
    "<br>\n",
    "\n",
    "# DATA CLEANING AND WRANGLING\n",
    "\n",
    "The objective of this step is to consolidate the data from multiple sources into a single pandas DataFrame.\n",
    "\n",
    "\n",
    "## I. Identify discrepencies, anomalies and edge cases.\n",
    "\n",
    "\n",
    "**Question 1.a.** Download the data from 2017 and store each quarter into a different dataframe. Compare the four dataframes. What are two obvious problems that will need to be considered before performing the combination of the four datasets?"
   ]
  },
  {
   "cell_type": "code",
   "execution_count": 5,
   "metadata": {},
   "outputs": [],
   "source": [
    "## put your code in this cell. You may remove this comment."
   ]
  },
  {
   "cell_type": "markdown",
   "metadata": {},
   "source": [
    "**Question 1.b.** Download the data from 2016 and store each quarter into a different dataframe. Are there any other problems that will need to be addressed before combining the data of 2016 and the data of 2017?"
   ]
  },
  {
   "cell_type": "code",
   "execution_count": 8,
   "metadata": {},
   "outputs": [],
   "source": [
    "## put your code in this cell. You may remove this comment."
   ]
  },
  {
   "cell_type": "markdown",
   "metadata": {},
   "source": [
    "**Question 1.c.**  What would be a good strategy to address these problems in order to combine all of the data into a single dataframe? Justify. *(do not implement your solution yet)*"
   ]
  },
  {
   "cell_type": "markdown",
   "metadata": {},
   "source": [
    "*Write your answer in this cell. You may remove this comment.*"
   ]
  },
  {
   "cell_type": "markdown",
   "metadata": {},
   "source": [
    "**Question 2.a.** Look at the first five and last five entries of Q4, 2017. Can you spot anything strange?"
   ]
  },
  {
   "cell_type": "code",
   "execution_count": 3,
   "metadata": {},
   "outputs": [],
   "source": [
    "## put your code in this cell. You may remove this comment."
   ]
  },
  {
   "cell_type": "markdown",
   "metadata": {},
   "source": [
    "**Question 2.b.** Write code to identify how many trips in Q4, 2017 exhibit the strange behaviour identified in Question 2.a."
   ]
  },
  {
   "cell_type": "code",
   "execution_count": 6,
   "metadata": {},
   "outputs": [],
   "source": [
    "## put your code in this cell. You may remove this comment."
   ]
  },
  {
   "cell_type": "markdown",
   "metadata": {},
   "source": [
    "**Question 2.c.** Closely examine the characteristics of these entries. What else is strange about the data?"
   ]
  },
  {
   "cell_type": "code",
   "execution_count": 1,
   "metadata": {},
   "outputs": [],
   "source": [
    "## put your code in this cell. You may remove this comment."
   ]
  },
  {
   "cell_type": "markdown",
   "metadata": {},
   "source": [
    "**Question 3.** Are there any entries in your datasets that have a missing value? Write a function that takes a dataframe as an argument, and returns the dataframe contening only the rows with any missing value."
   ]
  },
  {
   "cell_type": "code",
   "execution_count": 11,
   "metadata": {},
   "outputs": [],
   "source": [
    "## put your code in this cell. You may remove this comment."
   ]
  },
  {
   "cell_type": "markdown",
   "metadata": {},
   "source": [
    "**Question 4.** Plot the distribution of trip duration in the fourth quarter of both 2016 and 2017."
   ]
  },
  {
   "cell_type": "code",
   "execution_count": 21,
   "metadata": {},
   "outputs": [],
   "source": [
    "## put your code in this cell. You may remove this comment."
   ]
  },
  {
   "cell_type": "markdown",
   "metadata": {},
   "source": [
    "**Question 5.** Devise a strategy for identifying outliers based on trip duration. Write a function that takes a dataframe as an argument, and returns the dataframe after removing outliers."
   ]
  },
  {
   "cell_type": "code",
   "execution_count": 20,
   "metadata": {},
   "outputs": [],
   "source": [
    "## put your code in this cell. You may remove this comment."
   ]
  },
  {
   "cell_type": "markdown",
   "metadata": {},
   "source": [
    "<br>\n",
    "\n",
    "## II. Putting it all together: Reconcile and clean-up the data\n",
    "\n",
    "**Question 1.** Combine the data from all quarters into a single master dataframe. Keep all of the rows for now, but drop the station ID information. Instead, add two columns to this dataframe, one with the year information (2017 or 2016), and one with the Quarter information (Q1, Q2, Q3 or Q4). Plot the trip duration distribution."
   ]
  },
  {
   "cell_type": "code",
   "execution_count": 23,
   "metadata": {},
   "outputs": [],
   "source": [
    "## put your code in this cell. You may remove this comment."
   ]
  },
  {
   "cell_type": "markdown",
   "metadata": {},
   "source": [
    "**Question 2.** Toronto Parking Authority generally considers trips less than a minute to be invalid trips. Write code to remove these entries from your master dataframe."
   ]
  },
  {
   "cell_type": "code",
   "execution_count": 22,
   "metadata": {},
   "outputs": [],
   "source": [
    "## put your code in this cell. You may remove this comment."
   ]
  },
  {
   "cell_type": "markdown",
   "metadata": {},
   "source": [
    "**Question 3.** Show that there still are some trips that start/end at the same station. Examine the trip duration distribution for these trips. Is it relevant to keep all of these entries? Explain why or why not."
   ]
  },
  {
   "cell_type": "markdown",
   "metadata": {},
   "source": [
    "*Write your answer in this cell. You may remove this comment.*"
   ]
  },
  {
   "cell_type": "markdown",
   "metadata": {},
   "source": [
    "**Question 4.** Remove the outliers from your dataframe using the function from Question I.5 above. Plot the trip duration distribution, and discuss the result."
   ]
  },
  {
   "cell_type": "code",
   "execution_count": 25,
   "metadata": {},
   "outputs": [],
   "source": [
    "## put your code in this cell. You may remove this comment."
   ]
  },
  {
   "cell_type": "markdown",
   "metadata": {},
   "source": [
    "<br>\n",
    "\n",
    "# DATA ANALYSIS\n",
    "\n",
    "Investigate the following questions:\n",
    "\n",
    "**Question 1.** What are the 20 most popular stations for the whole period? "
   ]
  },
  {
   "cell_type": "markdown",
   "metadata": {},
   "source": [
    "**Question 2.** Have these stations consistently been the most popular over time?"
   ]
  },
  {
   "cell_type": "markdown",
   "metadata": {},
   "source": [
    " <br>\n",
    " <br>\n",
    " \n",
    " # <p style=\"background-color: #EEEEEE;text-align:center;padding-top: 15px;padding-bottom: 15px;\" >Submission and Grading </p>\n",
    " \n",
    "## Submission\n",
    "\n",
    "**What should be submitted?**\n",
    "\n",
    "* A Jupyter notebook using Python that contains all the data analyses. The flow of the notebook should be Markdown and Code cells weaved together. In addition make sure to comment your code in the code cells.\n",
    "\n",
    "* Additional files that your notebook requires to compile properly (e.g. a data file).\n",
    "\n",
    "* A report from your Jupyter notebook exported as a html file without the code cells. This can be done using [nbconvert](https://nbconvert.readthedocs.io/en/latest/).\n",
    "\n",
    "**When should it be submitted?**\n",
    "* At the end of the lab session (in-lab progress): Submit your current progress, i.e., <mark><b>before 2:30pm on the day of the laboratory, January 8.</b></mark> (Submit to Github Classroom, and Quercus: \"L1.1. In-lab progress\")\n",
    "* Homework (lab assignment completion): Upload your completed lab assignment by the next class, on <mark><b>Monday January 13 at 12:00pm (noon)</b></mark>. (Submit to Github Classroom, and Quercus: \"L1.1. Lab Assignment Completed\")\n",
    "\n",
    "**Where should the assignment be submitted?**\n",
    "* Commit your finished notebook (ipynb and html versions), and any other files on the Github Classroom repository.\n",
    "* Submit a pdf version of this notebook, including code cells (print this notebook to pdf) to Quercus.\n",
    "\n",
    "\n",
    "## Grading\n",
    "\n",
    "Laboratory 1.1. will be graded according to the following marking scheme.\n",
    "\n",
    "| | Marks|\n",
    "|--- |--- |\n",
    "| In-lab progress | 5 |\n",
    "| Lab assignment completion | 10 |\n",
    "| Attendance for entire lab | 5 |\n",
    "| **Total** | **20**|\n",
    "\n",
    "\n",
    "Note that marks will be deduced for the following reasons: notebook doesn't compile; files are missingl; instructions are not followed.\n",
    "\n",
    "\n",
    "### In-lab progress grading rubric\n",
    "\n",
    "In-lab progress rubric is as follows (also available [here](https://jsc270.github.io/tut_grading.html#in-lab_progress)):\n",
    "\n",
    "|Category|5|4|3|2|1|\n",
    "|---|:---:|:---:|:---:|:---:|:---:|\n",
    "|**Progress (5 pts)** | Excellent progress. Optimal use of lab time. The team was fully focused on getting the assignment done, and fully engaged. Excellent progress. | Good progress. Good use of lab time. The team was focused on getting the assignment done, and engaged. | Moderate progress. Used some of the lab time well. There was some focus on getting the assignment done, but the team was occasionnally distracted. | Insufficient progress. Poor use of lab time. The team was generally distracted, and did not focus much on the assignment. | Minimal progress. The team did barely use lab time to make progress on the assignment, and was often distracted. |\n",
    "\n",
    "<br>\n",
    "\n",
    "### Lab assignment completion grading rubric\n",
    "\n",
    "Lab assignment completion grading rubric is as follows (also available [here](https://jsc270.github.io/tut_grading.html#lab_assignment_completion)):\n",
    "\n",
    "|Category|5|4|3|2|1|\n",
    "|---|:---:|:---:|:---:|:---:|:---:|\n",
    "|**Planning of code and statistical analysis <br> (2.5 pts)** | Introductory comment describes overall strategy and gives evidence of preliminary planning. Thoughtful problem decomposition breaks the problem into independent pieces that can be solved easily. | Evidence of planning before coding, but some flaws in overall strategy. | More planning needed: overall strategy ok, but have missed some obvious ways of making the code simpler. | It all hangs together, but planning was absent or rushed. | No evidence of planning. Strategy deeply flawed.|\n",
    "|**Programming execution and reproducibility of results <br> (2.5 pts)**| Mastery of Python vocabulary means that the absolute minimum amount of code is used to get the job done. Code free from duplication. Each function encapsulates a single task, and repeated tasks are performed by functions, not copy and paste. | Workable, but not elegant.  Common programming idioms used to reduce code. | The code works, but copy-paste used often. | Most of the code works, but some parts do not work. Copy-paste used very often. | Functions used inapproriately, or existing functions reinvented. Extensive use of copy and paste. |\n",
    "|**Programming Clarity <br> (2.5 pts)** | Code is a pleasure to read, and easy to understand. Code and comments form part of a seamless whole. | Comments used to discuss the why, and not how of code; to provide insight into complicated algorithms; and to indicate purpose of function (if not obvious from its name). Comment headings used to separate important sections of the code. | Generally easy to read, but some comments used inappropriately: either too many, or too few. Some variable names confusing. | Hard to understand. Poor choice of names and comments do not generally aid understanding. | Cannot understand code. The reader cannot understand why the code works. |\n",
    "|**Communication <br>(2.5 pts)**| Findings very well organised. Clear headings demarcate separate sections. Excellent flow from one section to the next. The report is easy to scan.  Tables and graphics carefully tuned and placed for desired purpose. | Findings well organised and sections clearly separated, but flow is lacking. Each section has clear purpose.  Tables and graphics clear and well chosen. | Generally well organised, but some sections muddled.  Tables or graphics appropriate, but some are poorly presented - e.g. too many decimal places, poorly chosen aspect ratio etc. | Sections unclear and no attempt to flow from one topic to the next. Graphics and tables poorly chosen to support questions. Some have fundamental flaws. | It is hard to read your notebook. There are no headings, figures are far away from where they are referenced in the text. There is no summary or conclusion. |"
   ]
  }
 ],
 "metadata": {
  "kernelspec": {
   "display_name": "Python 3",
   "language": "python",
   "name": "python3"
  },
  "language_info": {
   "codemirror_mode": {
    "name": "ipython",
    "version": 3
   },
   "file_extension": ".py",
   "mimetype": "text/x-python",
   "name": "python",
   "nbconvert_exporter": "python",
   "pygments_lexer": "ipython3",
   "version": "3.7.6"
  }
 },
 "nbformat": 4,
 "nbformat_minor": 2
}
